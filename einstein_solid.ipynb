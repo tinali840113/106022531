{
 "cells": [
  {
   "cell_type": "markdown",
   "metadata": {},
   "source": [
    "## Name: Mei-Hui, Li             &ensp; ID: 106022531             &ensp; Final Report\n",
    "# Problem condition\n",
    "$\\bullet$ Consider a system of two Einstein solids (A,B). \n",
    "\n",
    "$\\bullet$ Where the first solid (N_A) contains just a single oscillator, while the second solid (N_B) contains 100 oscillators.  \n",
    "\n",
    "$\\bullet$ The total number of engery (q) units in the combined system is fixed at 500. \n"
   ]
  },
  {
   "cell_type": "markdown",
   "metadata": {},
   "source": [
    "# Discussion\n",
    "1. Compute the multiplicity of the combined system, for each possible value of the energy of the first solid from 0 th 20.\n",
    "\n",
    "2. Plot (1) total multiplicity vs. the energy of the first solid. \n",
    "\n",
    "3. Plot (2) logarithm of the total multiplicity vs. the energy of the first solid.\n"
   ]
  },
  {
   "cell_type": "markdown",
   "metadata": {},
   "source": [
    "# Result"
   ]
  },
  {
   "cell_type": "markdown",
   "metadata": {},
   "source": [
    "## $\\bullet$ Boltzmannn factor  =  $e^{-E(s)/kT}$\n",
    "\n",
    "Boltzmann distribution function was obtained via directly analysing the multiplicities of a system. \n",
    "\n",
    "Alternatively, one can make use of the canonical ensemble which let a system is in thermal contact with a reservoir. \n",
    "\n",
    "While energy is free to flow between the system and the reservoir, the reservoir is thought to have infinitely large heat capacity as to maintain constant temperature, T, for the combined system.\n",
    "\n",
    "\n",
    "If system is in state ${\\displaystyle \\;s_{1}}$, then there would be a corresponding number of microstates available to the reservoir. Call this number ${\\displaystyle \\;\\Omega _{R}(s_{1})}$. \n",
    "\n",
    "By assumption, the combined system (of the system we are interested in and the reservoir) is isolated, so all microstates are equally probable. \n",
    "\n",
    "Therefore, for instance, if ${\\displaystyle \\;\\Omega _{R}(s_{1})=2\\;\\Omega _{R}(s_{2})}$, we can conclude that our system is twice as likely to be in state ${\\displaystyle \\;s_{1}} $ than ${\\displaystyle \\;s_{2}}$. \n",
    "\n",
    "In general, if ${\\displaystyle \\;P(s_{i})}$ is the probability that our system is in state ${\\displaystyle \\;s_{i}}$,\n",
    "\n",
    "### $\\rightarrow$ ${\\frac  {P(s_{1})}{P(s_{2})}}={\\frac  {\\Omega _{R}(s_{1})}{\\Omega _{R}(s_{2})}}$.\n",
    "\n",
    "Since the entropy of the reservoir ${\\displaystyle \\;S_{R}=k\\ln \\Omega _{R}}$, the above becomes\n",
    "\n",
    "### $\\rightarrow$ ${\\frac  {P(s_{1})}{P(s_{2})}}={\\frac  {e^{{S_{R}(s_{1})/k}}}{e^{{S_{R}(s_{2})/k}}}}=e^{{(S_{R}(s_{1})-S_{R}(s_{2}))/k}}$\n",
    "\n",
    "Next from the first law of thermodynamics:\n",
    "\n",
    "### $\\rightarrow$ $ dS_{R}={\\frac  {1}{T}}(dU_{R}+P\\,dV_{R}-\\mu \\,dN_{R})$\n",
    "\n",
    "In a canonical ensemble, there is no exchange of particles and volume, so the ${\\displaystyle dN_{R}}$ and ${\\displaystyle dV_{R}}$ terms are zero. \n",
    "\n",
    "This gives\n",
    "\n",
    "### $\\rightarrow$ ${\\displaystyle S_{R}(s_{1})-S_{R}(s_{2})={\\frac {1}{T}}(U_{R}(s_{1})-U_{R}(s_{2}))=-{\\frac {1}{T}}(E(s_{1})-E(s_{2})),}$\n",
    "\n",
    "where ${\\displaystyle \\;U_{R}(s_{i})}$ and $\\;E(s_{i})$ denote the energies of the reservoir and the system at ${\\displaystyle s_{i}}$ , respectively. \n",
    "\n",
    "For the second equality we have used the conservation of energy. \n",
    "\n",
    "### $\\rightarrow$ ${\\frac  {P(s_{1})}{P(s_{2})}}={\\frac  {e^{{-E(s_{1})/kT}}}{e^{{-E(s_{2})/kT}}}}$\n",
    "\n",
    "$\\bigstar$ The probability of each state is equal to the corresponding Boltzmannn factor.\n",
    "\n",
    "### $\\rightarrow$ $P(s)= \\Omega (s)= \\frac{1}{Z}e^{-E( s )/kT}$"
   ]
  },
  {
   "cell_type": "markdown",
   "metadata": {},
   "source": [
    "## $\\bullet$ Einstein solid \n",
    "$\\rightarrow$ is a model of a solid based on three assumptions:\n",
    "1. Each atom in the lattice is an independent 3D quantum harmonic oscillator (SHO).\n",
    "2. Atoms do not interact with each other.\n",
    "3. All atoms oscillate with the same frequency (contrast with the Debye model).\n",
    "\n",
    "$\\bigstar$ Possible energies of an SHO are given by\n",
    "### $\\rightarrow$ $E_{n}=\\hbar(n+\\frac{1}{2} )$         \n",
    "$\\rightarrow$ The energy levels are evenly spaced and one can define a quantum of energy.\n",
    "\n",
    "$\\bigstar$ Now, in the multiplicity of the systems.\n",
    "\n",
    "$\\rightarrow$ Compute the number of ways to distribute $\\mathit{q}$ quanta of energy among $\\mathit{N_A}$ and $\\mathit{N_B}$.\n",
    "\n",
    "$\\rightarrow$ Just like the problem of calculating intervals.\n",
    "\n",
    "0|00||0000|0  #將8個0隨機分成5份，間隔為5-1=4 (用|表示間隔)，排法等於總物件(8+5-1)!除以相同物件重複次數8!4!\n",
    "\n",
    "\n",
    "### $\\rightarrow$ $\\Omega ( N ,  q ) = \\binom{q+N-1}{q}=\\frac{( q+N-1 )!}{q!( N-1 )!}$"
   ]
  },
  {
   "cell_type": "code",
   "execution_count": 13,
   "metadata": {},
   "outputs": [],
   "source": [
    "%matplotlib inline"
   ]
  },
  {
   "cell_type": "code",
   "execution_count": 14,
   "metadata": {},
   "outputs": [],
   "source": [
    "import numpy as np\n",
    "import matplotlib.pyplot as plt\n",
    "import pandas as pd"
   ]
  },
  {
   "cell_type": "code",
   "execution_count": 15,
   "metadata": {},
   "outputs": [],
   "source": [
    "def Omega(N, q):\n",
    "    return np.math.factorial(N + q - 1)/(np.math.factorial(q)*np.math.factorial(N - 1))"
   ]
  },
  {
   "cell_type": "code",
   "execution_count": 16,
   "metadata": {},
   "outputs": [],
   "source": [
    "N_A = 1    # particle in solid A\n",
    "N_B = 100  # particles in solid B\n",
    "q = 500    # total energy\n",
    "q_A = [i for i in range(20)] # q_A from 0 to 20\n",
    "q_B = [q - i for i in range(20)] # q_A from 500 to 480\n",
    "Omega_A = [0 for i in range(20)]\n",
    "Omega_B = [0 for i in range(20)]"
   ]
  },
  {
   "cell_type": "code",
   "execution_count": 17,
   "metadata": {},
   "outputs": [],
   "source": [
    "for i in range(20):\n",
    "    Omega_A[i] = Omega(N_A, q_A[i])\n",
    "    Omega_B[i] = Omega(N_B, q_B[i]) "
   ]
  },
  {
   "cell_type": "code",
   "execution_count": 18,
   "metadata": {},
   "outputs": [],
   "source": [
    "Omega_AB = [a * b for a, b in zip(Omega_A, Omega_B)]"
   ]
  },
  {
   "cell_type": "code",
   "execution_count": 19,
   "metadata": {},
   "outputs": [],
   "source": [
    "d = {'q_A': q_A, 'Omega_A': Omega_A, 'q_B': q_B, 'Omega_B': Omega_B, 'Omega_AB': Omega_AB, 'ln(Omega_AB)': np.log(Omega_AB)}\n",
    "df = pd.DataFrame(data=d)\n",
    "df.hide_index = True"
   ]
  },
  {
   "cell_type": "code",
   "execution_count": 20,
   "metadata": {},
   "outputs": [],
   "source": [
    "cols = df.columns.tolist()  # List data by table\n",
    "cols[1], cols[2] = cols[2], cols[1] \n",
    "cols = cols[-2:] + cols[0:-2]"
   ]
  },
  {
   "cell_type": "code",
   "execution_count": 21,
   "metadata": {},
   "outputs": [
    {
     "data": {
      "text/html": [
       "<div>\n",
       "<style scoped>\n",
       "    .dataframe tbody tr th:only-of-type {\n",
       "        vertical-align: middle;\n",
       "    }\n",
       "\n",
       "    .dataframe tbody tr th {\n",
       "        vertical-align: top;\n",
       "    }\n",
       "\n",
       "    .dataframe thead th {\n",
       "        text-align: right;\n",
       "    }\n",
       "</style>\n",
       "<table border=\"1\" class=\"dataframe\">\n",
       "  <thead>\n",
       "    <tr style=\"text-align: right;\">\n",
       "      <th></th>\n",
       "      <th>q_A</th>\n",
       "      <th>q_B</th>\n",
       "      <th>Omega_A</th>\n",
       "      <th>Omega_B</th>\n",
       "      <th>Omega_AB</th>\n",
       "      <th>ln(Omega_AB)</th>\n",
       "    </tr>\n",
       "  </thead>\n",
       "  <tbody>\n",
       "    <tr>\n",
       "      <th>0</th>\n",
       "      <td>0</td>\n",
       "      <td>500</td>\n",
       "      <td>1.0</td>\n",
       "      <td>1.852352e+115</td>\n",
       "      <td>1.852352e+115</td>\n",
       "      <td>265.413742</td>\n",
       "    </tr>\n",
       "    <tr>\n",
       "      <th>1</th>\n",
       "      <td>1</td>\n",
       "      <td>499</td>\n",
       "      <td>1.0</td>\n",
       "      <td>1.546204e+115</td>\n",
       "      <td>1.546204e+115</td>\n",
       "      <td>265.233088</td>\n",
       "    </tr>\n",
       "    <tr>\n",
       "      <th>2</th>\n",
       "      <td>2</td>\n",
       "      <td>498</td>\n",
       "      <td>1.0</td>\n",
       "      <td>1.290227e+115</td>\n",
       "      <td>1.290227e+115</td>\n",
       "      <td>265.052104</td>\n",
       "    </tr>\n",
       "    <tr>\n",
       "      <th>3</th>\n",
       "      <td>3</td>\n",
       "      <td>497</td>\n",
       "      <td>1.0</td>\n",
       "      <td>1.076270e+115</td>\n",
       "      <td>1.076270e+115</td>\n",
       "      <td>264.870787</td>\n",
       "    </tr>\n",
       "    <tr>\n",
       "      <th>4</th>\n",
       "      <td>4</td>\n",
       "      <td>496</td>\n",
       "      <td>1.0</td>\n",
       "      <td>8.974933e+114</td>\n",
       "      <td>8.974933e+114</td>\n",
       "      <td>264.689136</td>\n",
       "    </tr>\n",
       "    <tr>\n",
       "      <th>5</th>\n",
       "      <td>5</td>\n",
       "      <td>495</td>\n",
       "      <td>1.0</td>\n",
       "      <td>7.481625e+114</td>\n",
       "      <td>7.481625e+114</td>\n",
       "      <td>264.507151</td>\n",
       "    </tr>\n",
       "    <tr>\n",
       "      <th>6</th>\n",
       "      <td>6</td>\n",
       "      <td>494</td>\n",
       "      <td>1.0</td>\n",
       "      <td>6.234687e+114</td>\n",
       "      <td>6.234687e+114</td>\n",
       "      <td>264.324829</td>\n",
       "    </tr>\n",
       "    <tr>\n",
       "      <th>7</th>\n",
       "      <td>7</td>\n",
       "      <td>493</td>\n",
       "      <td>1.0</td>\n",
       "      <td>5.193820e+114</td>\n",
       "      <td>5.193820e+114</td>\n",
       "      <td>264.142170</td>\n",
       "    </tr>\n",
       "    <tr>\n",
       "      <th>8</th>\n",
       "      <td>8</td>\n",
       "      <td>492</td>\n",
       "      <td>1.0</td>\n",
       "      <td>4.325259e+114</td>\n",
       "      <td>4.325259e+114</td>\n",
       "      <td>263.959173</td>\n",
       "    </tr>\n",
       "    <tr>\n",
       "      <th>9</th>\n",
       "      <td>9</td>\n",
       "      <td>491</td>\n",
       "      <td>1.0</td>\n",
       "      <td>3.600723e+114</td>\n",
       "      <td>3.600723e+114</td>\n",
       "      <td>263.775835</td>\n",
       "    </tr>\n",
       "    <tr>\n",
       "      <th>10</th>\n",
       "      <td>10</td>\n",
       "      <td>490</td>\n",
       "      <td>1.0</td>\n",
       "      <td>2.996534e+114</td>\n",
       "      <td>2.996534e+114</td>\n",
       "      <td>263.592157</td>\n",
       "    </tr>\n",
       "    <tr>\n",
       "      <th>11</th>\n",
       "      <td>11</td>\n",
       "      <td>489</td>\n",
       "      <td>1.0</td>\n",
       "      <td>2.492872e+114</td>\n",
       "      <td>2.492872e+114</td>\n",
       "      <td>263.408136</td>\n",
       "    </tr>\n",
       "    <tr>\n",
       "      <th>12</th>\n",
       "      <td>12</td>\n",
       "      <td>488</td>\n",
       "      <td>1.0</td>\n",
       "      <td>2.073154e+114</td>\n",
       "      <td>2.073154e+114</td>\n",
       "      <td>263.223772</td>\n",
       "    </tr>\n",
       "    <tr>\n",
       "      <th>13</th>\n",
       "      <td>13</td>\n",
       "      <td>487</td>\n",
       "      <td>1.0</td>\n",
       "      <td>1.723508e+114</td>\n",
       "      <td>1.723508e+114</td>\n",
       "      <td>263.039062</td>\n",
       "    </tr>\n",
       "    <tr>\n",
       "      <th>14</th>\n",
       "      <td>14</td>\n",
       "      <td>486</td>\n",
       "      <td>1.0</td>\n",
       "      <td>1.432335e+114</td>\n",
       "      <td>1.432335e+114</td>\n",
       "      <td>262.854007</td>\n",
       "    </tr>\n",
       "    <tr>\n",
       "      <th>15</th>\n",
       "      <td>15</td>\n",
       "      <td>485</td>\n",
       "      <td>1.0</td>\n",
       "      <td>1.189940e+114</td>\n",
       "      <td>1.189940e+114</td>\n",
       "      <td>262.668603</td>\n",
       "    </tr>\n",
       "    <tr>\n",
       "      <th>16</th>\n",
       "      <td>16</td>\n",
       "      <td>484</td>\n",
       "      <td>1.0</td>\n",
       "      <td>9.882206e+113</td>\n",
       "      <td>9.882206e+113</td>\n",
       "      <td>262.482851</td>\n",
       "    </tr>\n",
       "    <tr>\n",
       "      <th>17</th>\n",
       "      <td>17</td>\n",
       "      <td>483</td>\n",
       "      <td>1.0</td>\n",
       "      <td>8.204096e+113</td>\n",
       "      <td>8.204096e+113</td>\n",
       "      <td>262.296749</td>\n",
       "    </tr>\n",
       "    <tr>\n",
       "      <th>18</th>\n",
       "      <td>18</td>\n",
       "      <td>482</td>\n",
       "      <td>1.0</td>\n",
       "      <td>6.808554e+113</td>\n",
       "      <td>6.808554e+113</td>\n",
       "      <td>262.110295</td>\n",
       "    </tr>\n",
       "    <tr>\n",
       "      <th>19</th>\n",
       "      <td>19</td>\n",
       "      <td>481</td>\n",
       "      <td>1.0</td>\n",
       "      <td>5.648404e+113</td>\n",
       "      <td>5.648404e+113</td>\n",
       "      <td>261.923489</td>\n",
       "    </tr>\n",
       "  </tbody>\n",
       "</table>\n",
       "</div>"
      ],
      "text/plain": [
       "    q_A  q_B  Omega_A        Omega_B       Omega_AB  ln(Omega_AB)\n",
       "0     0  500      1.0  1.852352e+115  1.852352e+115    265.413742\n",
       "1     1  499      1.0  1.546204e+115  1.546204e+115    265.233088\n",
       "2     2  498      1.0  1.290227e+115  1.290227e+115    265.052104\n",
       "3     3  497      1.0  1.076270e+115  1.076270e+115    264.870787\n",
       "4     4  496      1.0  8.974933e+114  8.974933e+114    264.689136\n",
       "5     5  495      1.0  7.481625e+114  7.481625e+114    264.507151\n",
       "6     6  494      1.0  6.234687e+114  6.234687e+114    264.324829\n",
       "7     7  493      1.0  5.193820e+114  5.193820e+114    264.142170\n",
       "8     8  492      1.0  4.325259e+114  4.325259e+114    263.959173\n",
       "9     9  491      1.0  3.600723e+114  3.600723e+114    263.775835\n",
       "10   10  490      1.0  2.996534e+114  2.996534e+114    263.592157\n",
       "11   11  489      1.0  2.492872e+114  2.492872e+114    263.408136\n",
       "12   12  488      1.0  2.073154e+114  2.073154e+114    263.223772\n",
       "13   13  487      1.0  1.723508e+114  1.723508e+114    263.039062\n",
       "14   14  486      1.0  1.432335e+114  1.432335e+114    262.854007\n",
       "15   15  485      1.0  1.189940e+114  1.189940e+114    262.668603\n",
       "16   16  484      1.0  9.882206e+113  9.882206e+113    262.482851\n",
       "17   17  483      1.0  8.204096e+113  8.204096e+113    262.296749\n",
       "18   18  482      1.0  6.808554e+113  6.808554e+113    262.110295\n",
       "19   19  481      1.0  5.648404e+113  5.648404e+113    261.923489"
      ]
     },
     "execution_count": 21,
     "metadata": {},
     "output_type": "execute_result"
    }
   ],
   "source": [
    "df[cols]"
   ]
  },
  {
   "cell_type": "code",
   "execution_count": 22,
   "metadata": {},
   "outputs": [
    {
     "data": {
      "image/png": "[encoded data removed]",
      "text/plain": [
       "<Figure size 432x288 with 1 Axes>"
      ]
     },
     "metadata": {},
     "output_type": "display_data"
    }
   ],
   "source": [
    "plt.plot(q_A, Omega_AB)  # Make a groph\n",
    "plt.xlabel('q_A')\n",
    "plt.ylabel('Omega_AB')\n",
    "plt.show()"
   ]
  },
  {
   "cell_type": "markdown",
   "metadata": {},
   "source": [
    "#### The shape is close to resembles a decaying exponential function, this system consists of a small system in thermal contact with a much larger than the small system, the Boltzmann distribution should apply."
   ]
  },
  {
   "cell_type": "code",
   "execution_count": 23,
   "metadata": {},
   "outputs": [
    {
     "data": {
      "image/png": "[encoded data removed]",
      "text/plain": [
       "<Figure size 432x288 with 1 Axes>"
      ]
     },
     "metadata": {},
     "output_type": "display_data"
    }
   ],
   "source": [
    "plt.plot(q_A, np.log(Omega_AB))  # Make a groph\n",
    "plt.xlabel('q_A')\n",
    "plt.ylabel('ln(Omega_AB)')\n",
    "plt.show()"
   ]
  },
  {
   "cell_type": "markdown",
   "metadata": {},
   "source": [
    "#### $\\frac{1}{T_{B}}=\\frac{\\partial S_{B}}{\\partial U_{B}}=-\\frac{\\partial S_{B}}{\\partial U_{A}}=-\\frac{k}{\\epsilon }\\frac{\\partial (ln\\Omega _{B})} {\\partial q_{A}}$  \n",
    "#### The slope = $\\epsilon/kT$ → $\\epsilon$ is the size of an energy unit.\n",
    "#### In acord with Boltzmannn factor $-E(s)/kT$"
   ]
  },
  {
   "cell_type": "markdown",
   "metadata": {},
   "source": [
    "# References\n",
    "1. Book：An Introduction to Thermal Physics - Daniel V. Schroeder\n",
    "\n",
    "2. Maxwell–Boltzmann statistics, from internet Wikipedia.\n",
    "\n",
    "3. Einstein solid, from internet Wikipedia."
   ]
  }
 ],
 "metadata": {
  "kernelspec": {
   "display_name": "Python 3",
   "language": "python",
   "name": "python3"
  },
  "language_info": {
   "codemirror_mode": {
    "name": "ipython",
    "version": 3
   },
   "file_extension": ".py",
   "mimetype": "text/x-python",
   "name": "python",
   "nbconvert_exporter": "python",
   "pygments_lexer": "ipython3",
   "version": "3.6.4"
  }
 },
 "nbformat": 4,
 "nbformat_minor": 2
}
